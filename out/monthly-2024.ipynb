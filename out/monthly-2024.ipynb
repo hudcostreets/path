{
 "cells": [
  {
   "cell_type": "markdown",
   "id": "00e0ac44",
   "metadata": {
    "papermill": {
     "duration": 0.007422,
     "end_time": "2024-10-21T00:14:51.268408",
     "exception": false,
     "start_time": "2024-10-21T00:14:51.260986",
     "status": "completed"
    },
    "slideshow": {
     "slide_type": ""
    },
    "tags": []
   },
   "source": [
    "# Parse PATH monthly ridership PDF\n",
    "```bash\n",
    "papermill -p year $year [-p last_month $last_month] monthly.ipynb out/monthly-$year.ipynb\n",
    "```"
   ]
  },
  {
   "cell_type": "code",
   "execution_count": 1,
   "id": "1b0e0e6e",
   "metadata": {
    "execution": {
     "iopub.execute_input": "2024-10-21T00:14:51.282677Z",
     "iopub.status.busy": "2024-10-21T00:14:51.282285Z",
     "iopub.status.idle": "2024-10-21T00:14:51.926805Z",
     "shell.execute_reply": "2024-10-21T00:14:51.926502Z"
    },
    "papermill": {
     "duration": 0.654067,
     "end_time": "2024-10-21T00:14:51.927906",
     "exception": false,
     "start_time": "2024-10-21T00:14:51.273839",
     "status": "completed"
    },
    "slideshow": {
     "slide_type": ""
    },
    "tags": []
   },
   "outputs": [],
   "source": [
    "from utz import *\n",
    "import json\n",
    "from tabula import read_pdf"
   ]
  },
  {
   "cell_type": "code",
   "execution_count": 2,
   "id": "f4b44bab",
   "metadata": {
    "execution": {
     "iopub.execute_input": "2024-10-21T00:14:51.931867Z",
     "iopub.status.busy": "2024-10-21T00:14:51.931697Z",
     "iopub.status.idle": "2024-10-21T00:14:51.934895Z",
     "shell.execute_reply": "2024-10-21T00:14:51.934680Z"
    },
    "papermill": {
     "duration": 0.005924,
     "end_time": "2024-10-21T00:14:51.935652",
     "exception": false,
     "start_time": "2024-10-21T00:14:51.929728",
     "status": "completed"
    },
    "slideshow": {
     "slide_type": ""
    },
    "tags": []
   },
   "outputs": [
    {
     "data": {
      "text/plain": [
       "(2024, 10)"
      ]
     },
     "execution_count": 2,
     "metadata": {},
     "output_type": "execute_result"
    }
   ],
   "source": [
    "n = now()\n",
    "cur_year = n.year\n",
    "cur_month = n.month\n",
    "cur_year, cur_month"
   ]
  },
  {
   "cell_type": "markdown",
   "id": "856cc866-4578-4e2b-86d8-0db63aa83bde",
   "metadata": {
    "papermill": {
     "duration": 0.00155,
     "end_time": "2024-10-21T00:14:51.938833",
     "exception": false,
     "start_time": "2024-10-21T00:14:51.937283",
     "status": "completed"
    },
    "slideshow": {
     "slide_type": ""
    },
    "tags": []
   },
   "source": [
    "Papermill parameters:"
   ]
  },
  {
   "cell_type": "code",
   "execution_count": 3,
   "id": "f354a72e",
   "metadata": {
    "execution": {
     "iopub.execute_input": "2024-10-21T00:14:51.942323Z",
     "iopub.status.busy": "2024-10-21T00:14:51.942227Z",
     "iopub.status.idle": "2024-10-21T00:14:51.943798Z",
     "shell.execute_reply": "2024-10-21T00:14:51.943555Z"
    },
    "papermill": {
     "duration": 0.004327,
     "end_time": "2024-10-21T00:14:51.944679",
     "exception": false,
     "start_time": "2024-10-21T00:14:51.940352",
     "status": "completed"
    },
    "slideshow": {
     "slide_type": ""
    },
    "tags": [
     "parameters"
    ]
   },
   "outputs": [],
   "source": [
    "year = None\n",
    "last_month = None\n",
    "template = None"
   ]
  },
  {
   "cell_type": "code",
   "execution_count": 4,
   "id": "ac2ef03a",
   "metadata": {
    "execution": {
     "iopub.execute_input": "2024-10-21T00:14:51.948847Z",
     "iopub.status.busy": "2024-10-21T00:14:51.948729Z",
     "iopub.status.idle": "2024-10-21T00:14:51.950330Z",
     "shell.execute_reply": "2024-10-21T00:14:51.950107Z"
    },
    "papermill": {
     "duration": 0.004531,
     "end_time": "2024-10-21T00:14:51.951089",
     "exception": false,
     "start_time": "2024-10-21T00:14:51.946558",
     "status": "completed"
    },
    "tags": [
     "injected-parameters"
    ]
   },
   "outputs": [],
   "source": [
    "# Parameters\n",
    "year = 2024\n",
    "last_month = 8\n"
   ]
  },
  {
   "cell_type": "code",
   "execution_count": 5,
   "id": "69e65e93-7be8-4e84-8580-023527a52d05",
   "metadata": {
    "execution": {
     "iopub.execute_input": "2024-10-21T00:14:51.955041Z",
     "iopub.status.busy": "2024-10-21T00:14:51.954939Z",
     "iopub.status.idle": "2024-10-21T00:14:51.956812Z",
     "shell.execute_reply": "2024-10-21T00:14:51.956605Z"
    },
    "papermill": {
     "duration": 0.004631,
     "end_time": "2024-10-21T00:14:51.957535",
     "exception": false,
     "start_time": "2024-10-21T00:14:51.952904",
     "status": "completed"
    },
    "slideshow": {
     "slide_type": ""
    },
    "tags": []
   },
   "outputs": [],
   "source": [
    "if year is None:\n",
    "    year = cur_year\n",
    "\n",
    "if last_month is None:\n",
    "    if year == cur_year:\n",
    "        last_month = 3\n",
    "    else:\n",
    "        last_month = 12\n",
    "\n",
    "if template is None:\n",
    "    if year >= 2023:\n",
    "        template = '2023-PATH-Monthly-Ridership-Report.tabula-template.json'\n",
    "    else:\n",
    "        template = 'PATH-Monthly-Ridership-Report.json'"
   ]
  },
  {
   "cell_type": "code",
   "execution_count": 6,
   "id": "280d1426",
   "metadata": {
    "execution": {
     "iopub.execute_input": "2024-10-21T00:14:51.961226Z",
     "iopub.status.busy": "2024-10-21T00:14:51.961130Z",
     "iopub.status.idle": "2024-10-21T00:14:51.963080Z",
     "shell.execute_reply": "2024-10-21T00:14:51.962864Z"
    },
    "papermill": {
     "duration": 0.004665,
     "end_time": "2024-10-21T00:14:51.963845",
     "exception": false,
     "start_time": "2024-10-21T00:14:51.959180",
     "status": "completed"
    },
    "slideshow": {
     "slide_type": ""
    },
    "tags": []
   },
   "outputs": [
    {
     "data": {
      "text/plain": [
       "'data/2024-PATH-Monthly-Ridership-Report.pdf'"
      ]
     },
     "execution_count": 6,
     "metadata": {},
     "output_type": "execute_result"
    }
   ],
   "source": [
    "pdf = f'data/{year}-PATH-Monthly-Ridership-Report.pdf'\n",
    "pdf"
   ]
  },
  {
   "cell_type": "code",
   "execution_count": 7,
   "id": "6be0c906",
   "metadata": {
    "execution": {
     "iopub.execute_input": "2024-10-21T00:14:51.967596Z",
     "iopub.status.busy": "2024-10-21T00:14:51.967490Z",
     "iopub.status.idle": "2024-10-21T00:14:51.970065Z",
     "shell.execute_reply": "2024-10-21T00:14:51.969866Z"
    },
    "papermill": {
     "duration": 0.005307,
     "end_time": "2024-10-21T00:14:51.970853",
     "exception": false,
     "start_time": "2024-10-21T00:14:51.965546",
     "status": "completed"
    },
    "scrolled": true,
    "slideshow": {
     "slide_type": ""
    },
    "tags": []
   },
   "outputs": [
    {
     "data": {
      "text/plain": [
       "[{'page': 1,\n",
       "  'extraction_method': 'guess',\n",
       "  'x1': 54.315,\n",
       "  'x2': 577.575,\n",
       "  'y1': 116.00001000000002,\n",
       "  'y2': 238.40001,\n",
       "  'width': 523.26,\n",
       "  'height': 122.4},\n",
       " {'page': 1,\n",
       "  'extraction_method': 'guess',\n",
       "  'x1': 58.14,\n",
       "  'x2': 577.575,\n",
       "  'y1': 253.000035,\n",
       "  'y2': 401.41003500000005,\n",
       "  'width': 519.4350000000001,\n",
       "  'height': 148.41},\n",
       " {'page': 1,\n",
       "  'extraction_method': 'guess',\n",
       "  'x1': 58.14,\n",
       "  'x2': 577.575,\n",
       "  'y1': 474.999975,\n",
       "  'y2': 592.809975,\n",
       "  'width': 519.4350000000001,\n",
       "  'height': 117.81},\n",
       " {'page': 1,\n",
       "  'extraction_method': 'guess',\n",
       "  'x1': 56.61,\n",
       "  'x2': 578.34,\n",
       "  'y1': 611.000145,\n",
       "  'y2': 753.290145,\n",
       "  'width': 521.73,\n",
       "  'height': 142.29}]"
      ]
     },
     "execution_count": 7,
     "metadata": {},
     "output_type": "execute_result"
    }
   ],
   "source": [
    "with open(f'templates/{template}', 'r') as f:\n",
    "    rects = json.load(f)\n",
    "rects"
   ]
  },
  {
   "cell_type": "code",
   "execution_count": 8,
   "id": "eb31a18e",
   "metadata": {
    "execution": {
     "iopub.execute_input": "2024-10-21T00:14:51.974725Z",
     "iopub.status.busy": "2024-10-21T00:14:51.974628Z",
     "iopub.status.idle": "2024-10-21T00:14:51.976751Z",
     "shell.execute_reply": "2024-10-21T00:14:51.976552Z"
    },
    "papermill": {
     "duration": 0.004885,
     "end_time": "2024-10-21T00:14:51.977470",
     "exception": false,
     "start_time": "2024-10-21T00:14:51.972585",
     "status": "completed"
    },
    "slideshow": {
     "slide_type": ""
    },
    "tags": []
   },
   "outputs": [
    {
     "data": {
      "text/plain": [
       "[[116.00001000000002, 54.315, 238.40001, 577.575],\n",
       " [253.000035, 58.14, 401.41003500000005, 577.575],\n",
       " [474.999975, 58.14, 592.809975, 577.575],\n",
       " [611.000145, 56.61, 753.290145, 578.34]]"
      ]
     },
     "execution_count": 8,
     "metadata": {},
     "output_type": "execute_result"
    }
   ],
   "source": [
    "area = [ [ r[k] for k in [ 'y1', 'x1', 'y2', 'x2' ] ] for r in rects ]\n",
    "area"
   ]
  },
  {
   "cell_type": "code",
   "execution_count": 9,
   "id": "dd2bc0e3",
   "metadata": {
    "execution": {
     "iopub.execute_input": "2024-10-21T00:14:51.981260Z",
     "iopub.status.busy": "2024-10-21T00:14:51.981171Z",
     "iopub.status.idle": "2024-10-21T00:14:58.286967Z",
     "shell.execute_reply": "2024-10-21T00:14:58.286663Z"
    },
    "papermill": {
     "duration": 6.308705,
     "end_time": "2024-10-21T00:14:58.287889",
     "exception": false,
     "start_time": "2024-10-21T00:14:51.979184",
     "status": "completed"
    },
    "scrolled": true,
    "slideshow": {
     "slide_type": ""
    },
    "tags": []
   },
   "outputs": [
    {
     "name": "stderr",
     "output_type": "stream",
     "text": [
      "Error importing jpype dependencies. Fallback to subprocess.\n"
     ]
    },
    {
     "name": "stderr",
     "output_type": "stream",
     "text": [
      "No module named 'jpype'\n"
     ]
    },
    {
     "data": {
      "text/plain": [
       "{1: [                    0          1       2       3       4       5\n",
       "  0  Christopher Street     86,831   3,147   2,511   1,784   1,784\n",
       "  1          9th Street     75,977   2,792   2,108   1,401   1,651\n",
       "  2         14th Street    127,321   4,834   3,037   2,180   2,472\n",
       "  3         23rd Street    122,336   5,033   1,964   1,287   1,817\n",
       "  4         33rd Street    500,254  19,543   9,702   6,865  11,787\n",
       "  5     UPTOWN SUBTOTAL    912,719  35,350  19,322  13,517  19,510\n",
       "  6                 WTC    922,430  37,278  15,316  11,296  16,569\n",
       "  7   NEW YORK SUBTOTAL  1,835,149  72,628  34,638  24,813  36,079,\n",
       "                       0          1        2       3       4       5\n",
       "  0               Newark    344,156   14,267   5,102   3,413   5,244\n",
       "  1             Harrison    130,445    5,417   2,086   1,154   1,862\n",
       "  2       Journal Square    474,171   18,174  10,822   7,634   9,348\n",
       "  3         Grove Street    366,378   14,545   7,620   4,638   5,955\n",
       "  4       Exchange Place    248,376   10,112   4,418   2,761   3,649\n",
       "  5              Newport    262,353   10,678   4,533   3,073   3,842\n",
       "  6              Hoboken    397,724   15,943   8,225   4,637   5,734\n",
       "  7  NEW JERSEY SUBTOTAL  2,223,603   89,137  42,806  27,309  35,633\n",
       "  8        MONTHLY TOTAL  4,058,752  161,765  77,443  52,122  71,711,\n",
       "                      0       1          2        3       4       5\n",
       "  0  Christopher Street   2,801     66,085   10,043   7,136   3,567\n",
       "  1          9th Street   2,451     58,641    8,433   5,602   3,301\n",
       "  2         14th Street   4,107    101,507   12,149   8,721   4,944\n",
       "  3         23rd Street   3,946    105,700    7,855   5,147   3,634\n",
       "  4         33rd Street  16,137    410,413   38,806  27,461  23,574\n",
       "  5     UPTOWN SUBTOTAL  29,443    742,346   77,286  54,067  39,020\n",
       "  6                 WTC  29,756    782,844   61,264  45,185  33,137\n",
       "  7   NEW YORK SUBTOTAL  59,198  1,525,190  138,550  99,252  72,157,\n",
       "                       0        1          2        3        4        5\n",
       "  0               Newark   11,102    299,611   20,406   13,651   10,488\n",
       "  1             Harrison    4,208    113,764    8,344    4,614    3,723\n",
       "  2       Journal Square   15,296    381,652   43,289   30,534   18,696\n",
       "  3         Grove Street   11,819    305,435   30,480   18,553   11,910\n",
       "  4       Exchange Place    8,012    212,362   17,673   11,044    7,297\n",
       "  5              Newport    8,463    224,243   18,133   12,293    7,684\n",
       "  6              Hoboken   12,830    334,811   32,898   18,548   11,467\n",
       "  7  NEW JERSEY SUBTOTAL   71,729  1,871,878  171,223  109,237   71,265\n",
       "  8        MONTHLY TOTAL  130,927  3,397,068  309,773  208,489  143,422],\n",
       " 2: [                    0          1       2       3       4       5\n",
       "  0  Christopher Street     91,049   3,382   3,104   2,266   1,934\n",
       "  1          9th Street     90,412   3,531   2,675   1,826   1,786\n",
       "  2         14th Street    128,322   5,075   3,417   2,557   2,918\n",
       "  3         23rd Street    116,137   4,981   2,135   1,445   2,190\n",
       "  4         33rd Street    477,997  19,513  11,085   8,266  10,344\n",
       "  5     UPTOWN SUBTOTAL    903,917  36,482  22,415  16,360  19,172\n",
       "  6                 WTC    961,158  40,942  17,737  13,331  18,054\n",
       "  7   NEW YORK SUBTOTAL  1,865,075  77,424  40,152  29,690  37,226,\n",
       "                       0          1        2       3       4       5\n",
       "  0               Newark    350,258   15,494   5,842   2,384   7,481\n",
       "  1             Harrison    129,146    5,669   2,424     840   2,719\n",
       "  2       Journal Square    496,366   19,737  12,315  10,140  11,812\n",
       "  3         Grove Street    365,932   15,113   8,703   5,393   7,281\n",
       "  4       Exchange Place    245,551   10,203   5,454   3,747   4,696\n",
       "  5              Newport    264,035   11,213   5,215   3,589   4,557\n",
       "  6              Hoboken    399,673   16,536   9,594   5,901   6,972\n",
       "  7  NEW JERSEY SUBTOTAL  2,250,961   93,965  49,546  31,993  45,518\n",
       "  8        MONTHLY TOTAL  4,116,036  171,389  89,698  61,683  82,744,\n",
       "                      0       1          2        3        4       5\n",
       "  0  Christopher Street   3,140     67,635   12,415    9,065   1,934\n",
       "  1          9th Street   3,118     70,624   10,700    7,302   1,786\n",
       "  2         14th Street   4,425    101,507   13,669   10,228   2,918\n",
       "  3         23rd Street   4,005     99,628    8,538    5,781   2,190\n",
       "  4         33rd Street  16,483    390,252   44,338   33,063  10,344\n",
       "  5     UPTOWN SUBTOTAL  31,170    729,646   89,660   65,439  19,172\n",
       "  6                 WTC  33,143    818,833   70,949   53,322  18,054\n",
       "  7   NEW YORK SUBTOTAL  64,313  1,548,479  160,609  118,761  37,226,\n",
       "                       0        1          2        3        4       5\n",
       "  0               Newark   12,078    309,876   23,366    9,535   7,481\n",
       "  1             Harrison    4,453    113,371    9,696    3,360   2,719\n",
       "  2       Journal Square   17,116    394,738   49,258   40,558  11,812\n",
       "  3         Grove Street   12,618    302,267   34,811   21,573   7,281\n",
       "  4       Exchange Place    8,467    204,052   21,816   14,987   4,696\n",
       "  5              Newport    9,105    224,264   20,860   14,354   4,557\n",
       "  6              Hoboken   13,782    330,723   38,375   23,603   6,972\n",
       "  7  NEW JERSEY SUBTOTAL   77,619  1,879,291  198,182  127,970  45,518\n",
       "  8        MONTHLY TOTAL  141,932  3,427,770  358,791  246,731  82,744],\n",
       " 3: [                    0          1       2       3       4  5\n",
       "  0  Christopher Street    101,682   3,628   2,685   2,414  0\n",
       "  1          9th Street     91,718   3,360   2,261   1,971  0\n",
       "  2         14th Street    136,959   5,177   3,035   2,613  0\n",
       "  3         23rd Street    126,480   5,153   2,038   1,614  0\n",
       "  4         33rd Street    536,738  20,688  10,930   9,527  0\n",
       "  5     UPTOWN SUBTOTAL    993,577  38,006  20,949  18,139  0\n",
       "  6                 WTC  1,074,983  43,070  18,299  15,804  0\n",
       "  7   NEW YORK SUBTOTAL  2,068,560  81,076  39,249  33,943  0,\n",
       "                       0          1        2       3       4  5\n",
       "  0               Newark    387,179   15,971   6,015   4,343  0\n",
       "  1             Harrison    153,851    6,088   3,190   2,010  0\n",
       "  2       Journal Square    541,289   20,562  11,378  10,519  0\n",
       "  3         Grove Street    389,024   15,189   7,623   6,386  0\n",
       "  4       Exchange Place    266,045   10,348   5,344   4,402  0\n",
       "  5              Newport    289,257   11,565   4,998   4,279  0\n",
       "  6              Hoboken    431,136   16,845   9,010   6,468  0\n",
       "  7  NEW JERSEY SUBTOTAL  2,457,781   96,570  47,558  38,406  0\n",
       "  8        MONTHLY TOTAL  4,526,341  177,646  86,807  72,350  0,\n",
       "                      0       1          2        3        4  5\n",
       "  0  Christopher Street   3,280     76,189   13,424   12,069  0\n",
       "  1          9th Street   2,959     70,555   11,307    9,856  0\n",
       "  2         14th Street   4,418    108,718   15,177   13,064  0\n",
       "  3         23rd Street   4,080    108,218   10,190    8,072  0\n",
       "  4         33rd Street  17,314    434,453   54,649   47,636  0\n",
       "  5     UPTOWN SUBTOTAL  32,051    798,133  104,747   90,697  0\n",
       "  6                 WTC  34,677    904,467   91,496   79,020  0\n",
       "  7   NEW YORK SUBTOTAL  66,728  1,702,600  196,243  169,717  0,\n",
       "                       0        1          2        3        4  5\n",
       "  0               Newark   12,490    335,390   30,075   21,714  0\n",
       "  1             Harrison    4,963    127,851   15,951   10,049  0\n",
       "  2       Journal Square   17,461    431,807   56,888   52,594  0\n",
       "  3         Grove Street   12,549    318,975   38,117   31,932  0\n",
       "  4       Exchange Place    8,582    217,317   26,720   22,008  0\n",
       "  5              Newport    9,331    242,874   24,989   21,394  0\n",
       "  6              Hoboken   13,908    353,746   45,050   32,340  0\n",
       "  7  NEW JERSEY SUBTOTAL   79,283  2,027,960  237,790  192,031  0\n",
       "  8        MONTHLY TOTAL  146,011  3,730,560  434,033  361,748  0],\n",
       " 4: [                    0          1       2       3       4  5\n",
       "  0  Christopher Street    104,801   3,672   3,385   2,619  0\n",
       "  1          9th Street     97,413   3,531   2,857   2,077  0\n",
       "  2         14th Street    140,769   5,184   3,740   2,943  0\n",
       "  3         23rd Street    140,607   5,684   2,270   1,617  0\n",
       "  4         33rd Street    552,343  20,965  12,790   9,991  0\n",
       "  5     UPTOWN SUBTOTAL  1,035,933  39,036  25,041  19,247  0\n",
       "  6                 WTC  1,138,643  44,320  22,483  18,419  0\n",
       "  7   NEW YORK SUBTOTAL  2,174,576  83,356  47,523  37,666  0,\n",
       "                       0          1        2        3       4  5\n",
       "  0               Newark    408,928   16,429    6,604   5,270  0\n",
       "  1             Harrison    157,539    6,040    3,418   2,746  0\n",
       "  2       Journal Square    558,896   20,788   14,363  11,029  0\n",
       "  3         Grove Street    380,335   15,628    5,112   4,017  0\n",
       "  4       Exchange Place    294,895   10,505    9,162   6,787  0\n",
       "  5              Newport    315,229   12,012    7,244   5,500  0\n",
       "  6              Hoboken    456,272   17,424   11,061   7,175  0\n",
       "  7  NEW JERSEY SUBTOTAL  2,572,094   98,825   56,963  42,524  0\n",
       "  8        MONTHLY TOTAL  4,746,670  182,180  104,486  80,190  0,\n",
       "                      0       1          2        3        4  5\n",
       "  0  Christopher Street   3,493     80,787   13,539   10,475  0\n",
       "  1          9th Street   3,247     77,681   11,426    8,306  0\n",
       "  2         14th Street   4,692    114,039   14,958   11,772  0\n",
       "  3         23rd Street   4,687    125,058    9,080    6,469  0\n",
       "  4         33rd Street  18,411    461,219   51,160   39,964  0\n",
       "  5     UPTOWN SUBTOTAL  34,531    858,784  100,163   76,986  0\n",
       "  6                 WTC  37,955    975,037   89,930   73,676  0\n",
       "  7   NEW YORK SUBTOTAL  72,486  1,833,821  190,093  150,662  0,\n",
       "                       0        1          2        3        4  5\n",
       "  0               Newark   13,631    361,432   26,417   21,079  0\n",
       "  1             Harrison    5,251    132,883   13,672   10,984  0\n",
       "  2       Journal Square   18,630    457,330   57,450   44,116  0\n",
       "  3         Grove Street   12,678    343,818   20,448   16,069  0\n",
       "  4       Exchange Place    9,830    231,100   36,647   27,148  0\n",
       "  5              Newport   10,508    264,254   28,974   22,001  0\n",
       "  6              Hoboken   15,209    383,328   44,244   28,700  0\n",
       "  7  NEW JERSEY SUBTOTAL   85,736  2,174,145  227,852  170,097  0\n",
       "  8        MONTHLY TOTAL  158,222  4,007,966  417,945  320,759  0],\n",
       " 5: [                    0          1       2       3       4       5\n",
       "  0  Christopher Street    116,225   4,153   3,437   2,396   1,535\n",
       "  1          9th Street     92,394   3,282   2,840   1,870   1,355\n",
       "  2         14th Street    156,074   5,743   3,977   2,961   1,984\n",
       "  3         23rd Street    146,368   5,775   2,645   1,823   1,449\n",
       "  4         33rd Street    609,346  23,069  13,395  10,050   8,048\n",
       "  5     UPTOWN SUBTOTAL  1,120,407  42,021  26,294  19,099  14,371\n",
       "  6                 WTC  1,189,314  45,984  23,196  17,594  14,510\n",
       "  7   NEW YORK SUBTOTAL  2,309,721  88,005  49,489  36,694  28,881,\n",
       "                       0          1        2        3       4       5\n",
       "  0               Newark    439,219   17,421    7,055   5,359   6,306\n",
       "  1             Harrison    171,982    6,662    3,605   2,315   1,746\n",
       "  2       Journal Square    589,095   21,602   15,168  11,134   8,635\n",
       "  3         Grove Street    397,600   16,351    4,742   3,490   4,940\n",
       "  4       Exchange Place    333,960   11,730   10,546   7,309   4,494\n",
       "  5              Newport    333,576   12,533    7,883   5,588   3,961\n",
       "  6              Hoboken    475,695   18,347   10,199   6,693   4,489\n",
       "  7  NEW JERSEY SUBTOTAL  2,741,127  104,646   59,198  41,887  34,571\n",
       "  8        MONTHLY TOTAL  5,050,848  192,651  108,687  78,581  63,452,\n",
       "                      0       1          2        3        4       5\n",
       "  0  Christopher Street   3,749     91,359   13,749    9,582   1,535\n",
       "  1          9th Street   2,980     72,200   11,358    7,481   1,355\n",
       "  2         14th Street   5,035    126,341   15,906   11,843   1,984\n",
       "  3         23rd Street   4,722    127,046   10,580    7,293   1,449\n",
       "  4         33rd Street  19,656    507,519   53,581   40,198   8,048\n",
       "  5     UPTOWN SUBTOTAL  36,142    924,465  105,174   76,397  14,371\n",
       "  6                 WTC  38,365  1,011,645   92,782   70,377  14,510\n",
       "  7   NEW YORK SUBTOTAL  74,507  1,936,110  197,956  146,774  28,881,\n",
       "                       0        1          2        3        4       5\n",
       "  0               Newark   14,168    383,258   28,221   21,434   6,306\n",
       "  1             Harrison    5,548    146,557   14,419    9,260   1,746\n",
       "  2       Journal Square   19,003    475,252   60,672   44,536   8,635\n",
       "  3         Grove Street   12,826    359,730   18,969   13,961   4,940\n",
       "  4       Exchange Place   10,773    258,049   42,183   29,234   4,494\n",
       "  5              Newport   10,761    275,731   31,533   22,351   3,961\n",
       "  6              Hoboken   15,345    403,638   40,795   26,773   4,489\n",
       "  7  NEW JERSEY SUBTOTAL   88,423  2,302,215  236,792  167,549  34,571\n",
       "  8        MONTHLY TOTAL  162,931  4,238,325  434,748  314,323  63,452],\n",
       " 6: [                    0          1       2       3       4       5\n",
       "  0  Christopher Street    119,909   4,351   3,672   3,082   3,471\n",
       "  1          9th Street     89,219   3,159   3,028   2,267   2,727\n",
       "  2         14th Street    153,238   5,881   4,072   3,300   4,634\n",
       "  3         23rd Street    138,241   5,887   2,533   2,015   3,646\n",
       "  4         33rd Street    575,628  23,362  12,800  10,226  16,628\n",
       "  5     UPTOWN SUBTOTAL  1,076,235  42,640  26,104  20,889  31,106\n",
       "  6                 WTC  1,117,876  46,070  24,130  18,430  29,742\n",
       "  7   NEW YORK SUBTOTAL  2,194,111  88,710  50,234  39,320  60,848,\n",
       "                       0          1        2        3       4        5\n",
       "  0               Newark    422,007   18,099    7,191   6,256   10,896\n",
       "  1             Harrison    166,298    6,622    4,438   2,544    5,575\n",
       "  2       Journal Square    550,920   21,043   15,256  11,633   16,665\n",
       "  3         Grove Street    370,059   16,014    6,514   4,377   11,340\n",
       "  4       Exchange Place    308,171   11,501    9,661   6,818    7,261\n",
       "  5              Newport    305,530   12,363    7,350   5,307    7,343\n",
       "  6              Hoboken    454,820   18,812   10,170   7,027   11,410\n",
       "  7  NEW JERSEY SUBTOTAL  2,577,805  104,453   60,580  43,961   70,490\n",
       "  8        MONTHLY TOTAL  4,771,916  193,163  110,814  83,281  131,338,\n",
       "                      0       1          2        3        4       5\n",
       "  0  Christopher Street   3,997     82,671   18,359   15,408   3,471\n",
       "  1          9th Street   2,974     60,017   15,139   11,336   2,727\n",
       "  2         14th Street   5,108    111,745   20,359   16,500   4,634\n",
       "  3         23rd Street   4,608    111,857   12,665   10,073   3,646\n",
       "  4         33rd Street  19,188    443,871   63,999   51,130  16,628\n",
       "  5     UPTOWN SUBTOTAL  35,875    810,161  130,521  104,447  31,106\n",
       "  6                 WTC  37,263    875,333  120,649   92,152  29,742\n",
       "  7   NEW YORK SUBTOTAL  73,137  1,685,494  251,170  196,599  60,848,\n",
       "                       0        1          2        3        4        5\n",
       "  0               Newark   14,067    343,875   35,957   31,279   10,896\n",
       "  1             Harrison    5,543    125,813   22,190   12,720    5,575\n",
       "  2       Journal Square   18,364    399,811   76,280   58,164   16,665\n",
       "  3         Grove Street   12,335    304,266   32,570   21,883   11,340\n",
       "  4       Exchange Place   10,272    218,519   48,303   34,088    7,261\n",
       "  5              Newport   10,184    234,898   36,752   26,537    7,343\n",
       "  6              Hoboken   15,161    357,424   50,850   35,136   11,410\n",
       "  7  NEW JERSEY SUBTOTAL   85,927  1,984,606  302,902  219,807   70,490\n",
       "  8        MONTHLY TOTAL  159,064  3,670,100  554,072  416,406  131,338],\n",
       " 7: [                    0          1       2       3       4       5\n",
       "  0  Christopher Street    113,178   3,988   3,122   2,528   2,839\n",
       "  1          9th Street     85,275   2,998   2,397   1,805   2,511\n",
       "  2         14th Street    151,357   5,326   4,080   3,228   4,953\n",
       "  3         23rd Street    139,580   5,427   2,532   1,826   2,762\n",
       "  4         33rd Street    573,741  21,284  12,639  10,383  13,395\n",
       "  5     UPTOWN SUBTOTAL  1,063,131  39,023  24,769  19,771  26,460\n",
       "  6                 WTC  1,165,012  44,759  22,520  16,910  22,591\n",
       "  7   NEW YORK SUBTOTAL  2,228,143  83,783  47,289  36,680  49,051,\n",
       "                       0          1        2        3       4        5\n",
       "  0               Newark    426,437   16,689    7,516   5,011    9,180\n",
       "  1             Harrison    171,285    6,462    4,650   1,648    3,924\n",
       "  2       Journal Square    561,994   20,188   13,973  11,650   15,367\n",
       "  3         Grove Street    425,820   15,640   10,284   7,241   11,640\n",
       "  4       Exchange Place    312,809   11,842    6,120   4,522    9,709\n",
       "  5              Newport    310,485   11,871    6,175   4,494    6,652\n",
       "  6              Hoboken    444,627   16,823    8,884   6,720   12,096\n",
       "  7  NEW JERSEY SUBTOTAL  2,653,457   99,515   57,602  41,286   68,568\n",
       "  8        MONTHLY TOTAL  4,881,600  183,298  104,891  77,966  117,619,\n",
       "                      0       1          2        3        4       5\n",
       "  0  Christopher Street   3,651     87,740   12,488   10,111   2,839\n",
       "  1          9th Street   2,751     65,957    9,586    7,221   2,511\n",
       "  2         14th Street   4,882    117,173   16,318   12,913   4,953\n",
       "  3         23rd Street   4,503    119,385   10,129    7,304   2,762\n",
       "  4         33rd Street  18,508    468,258   50,555   41,533  13,395\n",
       "  5     UPTOWN SUBTOTAL  34,295    858,513   99,076   79,082  26,460\n",
       "  6                 WTC  37,581    984,703   90,079   67,639  22,591\n",
       "  7   NEW YORK SUBTOTAL  71,876  1,843,216  189,155  146,721  49,051,\n",
       "                       0        1          2        3        4        5\n",
       "  0               Newark   13,756    367,150   30,065   20,042    9,180\n",
       "  1             Harrison    5,525    142,168   18,600    6,593    3,924\n",
       "  2       Journal Square   18,129    444,135   55,892   46,600   15,367\n",
       "  3         Grove Street   13,736    344,080   41,136   28,964   11,640\n",
       "  4       Exchange Place   10,091    260,531   24,480   18,089    9,709\n",
       "  5              Newport   10,016    261,159   24,698   17,976    6,652\n",
       "  6              Hoboken   14,343    370,115   35,536   26,880   12,096\n",
       "  7  NEW JERSEY SUBTOTAL   85,595  2,189,338  230,407  165,144   68,568\n",
       "  8        MONTHLY TOTAL  157,471  4,032,554  419,562  311,865  117,619],\n",
       " 8: [                    0          1       2       3       4  5\n",
       "  0  Christopher Street    109,958   3,816   3,188   2,517  0\n",
       "  1          9th Street     88,209   3,050   2,710   1,890  0\n",
       "  2         14th Street    150,429   5,318   4,076   3,263  0\n",
       "  3         23rd Street    134,600   5,239   2,410   1,822  0\n",
       "  4         33rd Street    545,893  20,211  12,467   9,727  0\n",
       "  5     UPTOWN SUBTOTAL  1,029,089  37,635  24,851  19,218  0\n",
       "  6                 WTC  1,107,553  42,354  22,559  15,742  0\n",
       "  7   NEW YORK SUBTOTAL  2,136,642  79,989  47,410  34,960  0,\n",
       "                       0          1        2        3       4  5\n",
       "  0               Newark    386,421   15,861    5,623   2,343  0\n",
       "  1             Harrison    157,372    6,171    3,536     984  0\n",
       "  2       Journal Square    572,128   20,406   14,629  12,515  0\n",
       "  3         Grove Street    414,175   15,126   10,535   7,184  0\n",
       "  4       Exchange Place    290,785   10,937    6,487   4,432  0\n",
       "  5              Newport    300,424   11,429    6,227   4,463  0\n",
       "  6              Hoboken    417,134   15,764    9,025   6,302  0\n",
       "  7  NEW JERSEY SUBTOTAL  2,538,439   95,693   56,061  38,222  0\n",
       "  8        MONTHLY TOTAL  4,675,081  175,682  103,471  73,182  0,\n",
       "                      0       1          2        3        4  5\n",
       "  0  Christopher Street   3,547     83,953   15,939   10,066  0\n",
       "  1          9th Street   2,845     67,100   13,549    7,560  0\n",
       "  2         14th Street   4,853    116,997   20,381   13,051  0\n",
       "  3         23rd Street   4,342    115,265   12,048    7,287  0\n",
       "  4         33rd Street  17,609    444,651   62,336   38,906  0\n",
       "  5     UPTOWN SUBTOTAL  33,196    827,966  124,253   76,870  0\n",
       "  6                 WTC  35,728    931,787  112,797   62,969  0\n",
       "  7   NEW YORK SUBTOTAL  68,924  1,759,753  237,050  139,839  0,\n",
       "                       0        1          2        3        4  5\n",
       "  0               Newark   12,465    348,933   28,116    9,372  0\n",
       "  1             Harrison    5,077    135,760   17,678    3,934  0\n",
       "  2       Journal Square   18,456    448,924   73,143   50,061  0\n",
       "  3         Grove Street   13,360    332,767   52,674   28,734  0\n",
       "  4       Exchange Place    9,380    240,620   32,437   17,728  0\n",
       "  5              Newport    9,691    251,441   31,133   17,850  0\n",
       "  6              Hoboken   13,456    346,802   45,124   25,208  0\n",
       "  7  NEW JERSEY SUBTOTAL   81,885  2,105,247  280,305  152,887  0\n",
       "  8        MONTHLY TOTAL  150,809  3,865,000  517,355  292,726  0]}"
      ]
     },
     "execution_count": 9,
     "metadata": {},
     "output_type": "execute_result"
    }
   ],
   "source": [
    "tables = {\n",
    "    month: read_pdf(\n",
    "        pdf,\n",
    "        pages=month,\n",
    "        area=area,\n",
    "        pandas_options={'header': None},\n",
    "        stream=True,\n",
    "    ) \n",
    "    for month in range(1, last_month + 1)\n",
    "}\n",
    "\n",
    "tables"
   ]
  },
  {
   "cell_type": "code",
   "execution_count": 10,
   "id": "bdc5a891",
   "metadata": {
    "execution": {
     "iopub.execute_input": "2024-10-21T00:14:58.292870Z",
     "iopub.status.busy": "2024-10-21T00:14:58.292763Z",
     "iopub.status.idle": "2024-10-21T00:14:58.294456Z",
     "shell.execute_reply": "2024-10-21T00:14:58.294225Z"
    },
    "papermill": {
     "duration": 0.004869,
     "end_time": "2024-10-21T00:14:58.295224",
     "exception": false,
     "start_time": "2024-10-21T00:14:58.290355",
     "status": "completed"
    },
    "slideshow": {
     "slide_type": ""
    },
    "tags": []
   },
   "outputs": [],
   "source": [
    "cols1 = [ 'station', 'total', 'avg weekday', 'avg sat', 'avg sun', 'avg holiday' ]\n",
    "cols2 = [ 'station', 'avg daily', 'total weekday', 'total sat', 'total sun', 'total holiday' ]"
   ]
  },
  {
   "cell_type": "code",
   "execution_count": 11,
   "id": "fa2c55f1",
   "metadata": {
    "execution": {
     "iopub.execute_input": "2024-10-21T00:14:58.299968Z",
     "iopub.status.busy": "2024-10-21T00:14:58.299873Z",
     "iopub.status.idle": "2024-10-21T00:14:58.302532Z",
     "shell.execute_reply": "2024-10-21T00:14:58.302240Z"
    },
    "papermill": {
     "duration": 0.006149,
     "end_time": "2024-10-21T00:14:58.303338",
     "exception": false,
     "start_time": "2024-10-21T00:14:58.297189",
     "status": "completed"
    },
    "tags": []
   },
   "outputs": [
    {
     "name": "stdout",
     "output_type": "stream",
     "text": [
      "Pg 1: 4 tables\n",
      "Pg 2: 4 tables\n",
      "Pg 3: 4 tables\n",
      "Pg 4: 4 tables\n",
      "Pg 5: 4 tables\n",
      "Pg 6: 4 tables\n",
      "Pg 7: 4 tables\n",
      "Pg 8: 4 tables\n"
     ]
    },
    {
     "data": {
      "text/plain": [
       "8"
      ]
     },
     "execution_count": 11,
     "metadata": {},
     "output_type": "execute_result"
    }
   ],
   "source": [
    "for k, v in tables.items():\n",
    "    n = len(v)\n",
    "    msg = f'Pg {k}: {n} tables'\n",
    "    if n == 4:\n",
    "        print(msg)\n",
    "    else:\n",
    "        err(msg)\n",
    "len(tables)"
   ]
  },
  {
   "cell_type": "code",
   "execution_count": 12,
   "id": "b6b79a4f",
   "metadata": {
    "execution": {
     "iopub.execute_input": "2024-10-21T00:14:58.308964Z",
     "iopub.status.busy": "2024-10-21T00:14:58.308805Z",
     "iopub.status.idle": "2024-10-21T00:14:58.340496Z",
     "shell.execute_reply": "2024-10-21T00:14:58.339896Z"
    },
    "papermill": {
     "duration": 0.036071,
     "end_time": "2024-10-21T00:14:58.341778",
     "exception": false,
     "start_time": "2024-10-21T00:14:58.305707",
     "status": "completed"
    },
    "scrolled": true,
    "tags": []
   },
   "outputs": [
    {
     "data": {
      "text/html": [
       "<div>\n",
       "<style scoped>\n",
       "    .dataframe tbody tr th:only-of-type {\n",
       "        vertical-align: middle;\n",
       "    }\n",
       "\n",
       "    .dataframe tbody tr th {\n",
       "        vertical-align: top;\n",
       "    }\n",
       "\n",
       "    .dataframe thead th {\n",
       "        text-align: right;\n",
       "    }\n",
       "</style>\n",
       "<table border=\"1\" class=\"dataframe\">\n",
       "  <thead>\n",
       "    <tr style=\"text-align: right;\">\n",
       "      <th></th>\n",
       "      <th>0</th>\n",
       "      <th>1</th>\n",
       "      <th>2</th>\n",
       "      <th>3</th>\n",
       "      <th>4</th>\n",
       "      <th>5</th>\n",
       "      <th>date</th>\n",
       "    </tr>\n",
       "  </thead>\n",
       "  <tbody>\n",
       "    <tr>\n",
       "      <th>0</th>\n",
       "      <td>Christopher Street</td>\n",
       "      <td>86,831</td>\n",
       "      <td>3,147</td>\n",
       "      <td>2,511</td>\n",
       "      <td>1,784</td>\n",
       "      <td>1,784</td>\n",
       "      <td>2024-01-01</td>\n",
       "    </tr>\n",
       "    <tr>\n",
       "      <th>1</th>\n",
       "      <td>9th Street</td>\n",
       "      <td>75,977</td>\n",
       "      <td>2,792</td>\n",
       "      <td>2,108</td>\n",
       "      <td>1,401</td>\n",
       "      <td>1,651</td>\n",
       "      <td>2024-01-01</td>\n",
       "    </tr>\n",
       "    <tr>\n",
       "      <th>2</th>\n",
       "      <td>14th Street</td>\n",
       "      <td>127,321</td>\n",
       "      <td>4,834</td>\n",
       "      <td>3,037</td>\n",
       "      <td>2,180</td>\n",
       "      <td>2,472</td>\n",
       "      <td>2024-01-01</td>\n",
       "    </tr>\n",
       "    <tr>\n",
       "      <th>3</th>\n",
       "      <td>23rd Street</td>\n",
       "      <td>122,336</td>\n",
       "      <td>5,033</td>\n",
       "      <td>1,964</td>\n",
       "      <td>1,287</td>\n",
       "      <td>1,817</td>\n",
       "      <td>2024-01-01</td>\n",
       "    </tr>\n",
       "    <tr>\n",
       "      <th>4</th>\n",
       "      <td>33rd Street</td>\n",
       "      <td>500,254</td>\n",
       "      <td>19,543</td>\n",
       "      <td>9,702</td>\n",
       "      <td>6,865</td>\n",
       "      <td>11,787</td>\n",
       "      <td>2024-01-01</td>\n",
       "    </tr>\n",
       "    <tr>\n",
       "      <th>...</th>\n",
       "      <td>...</td>\n",
       "      <td>...</td>\n",
       "      <td>...</td>\n",
       "      <td>...</td>\n",
       "      <td>...</td>\n",
       "      <td>...</td>\n",
       "      <td>...</td>\n",
       "    </tr>\n",
       "    <tr>\n",
       "      <th>4</th>\n",
       "      <td>Exchange Place</td>\n",
       "      <td>290,785</td>\n",
       "      <td>10,937</td>\n",
       "      <td>6,487</td>\n",
       "      <td>4,432</td>\n",
       "      <td>0</td>\n",
       "      <td>2024-08-01</td>\n",
       "    </tr>\n",
       "    <tr>\n",
       "      <th>5</th>\n",
       "      <td>Newport</td>\n",
       "      <td>300,424</td>\n",
       "      <td>11,429</td>\n",
       "      <td>6,227</td>\n",
       "      <td>4,463</td>\n",
       "      <td>0</td>\n",
       "      <td>2024-08-01</td>\n",
       "    </tr>\n",
       "    <tr>\n",
       "      <th>6</th>\n",
       "      <td>Hoboken</td>\n",
       "      <td>417,134</td>\n",
       "      <td>15,764</td>\n",
       "      <td>9,025</td>\n",
       "      <td>6,302</td>\n",
       "      <td>0</td>\n",
       "      <td>2024-08-01</td>\n",
       "    </tr>\n",
       "    <tr>\n",
       "      <th>7</th>\n",
       "      <td>NEW JERSEY SUBTOTAL</td>\n",
       "      <td>2,538,439</td>\n",
       "      <td>95,693</td>\n",
       "      <td>56,061</td>\n",
       "      <td>38,222</td>\n",
       "      <td>0</td>\n",
       "      <td>2024-08-01</td>\n",
       "    </tr>\n",
       "    <tr>\n",
       "      <th>8</th>\n",
       "      <td>MONTHLY TOTAL</td>\n",
       "      <td>4,675,081</td>\n",
       "      <td>175,682</td>\n",
       "      <td>103,471</td>\n",
       "      <td>73,182</td>\n",
       "      <td>0</td>\n",
       "      <td>2024-08-01</td>\n",
       "    </tr>\n",
       "  </tbody>\n",
       "</table>\n",
       "<p>136 rows × 7 columns</p>\n",
       "</div>"
      ],
      "text/plain": [
       "                      0          1        2        3       4       5  \\\n",
       "0    Christopher Street     86,831    3,147    2,511   1,784   1,784   \n",
       "1            9th Street     75,977    2,792    2,108   1,401   1,651   \n",
       "2           14th Street    127,321    4,834    3,037   2,180   2,472   \n",
       "3           23rd Street    122,336    5,033    1,964   1,287   1,817   \n",
       "4           33rd Street    500,254   19,543    9,702   6,865  11,787   \n",
       "..                  ...        ...      ...      ...     ...     ...   \n",
       "4        Exchange Place    290,785   10,937    6,487   4,432       0   \n",
       "5               Newport    300,424   11,429    6,227   4,463       0   \n",
       "6               Hoboken    417,134   15,764    9,025   6,302       0   \n",
       "7   NEW JERSEY SUBTOTAL  2,538,439   95,693   56,061  38,222       0   \n",
       "8         MONTHLY TOTAL  4,675,081  175,682  103,471  73,182       0   \n",
       "\n",
       "          date  \n",
       "0   2024-01-01  \n",
       "1   2024-01-01  \n",
       "2   2024-01-01  \n",
       "3   2024-01-01  \n",
       "4   2024-01-01  \n",
       "..         ...  \n",
       "4   2024-08-01  \n",
       "5   2024-08-01  \n",
       "6   2024-08-01  \n",
       "7   2024-08-01  \n",
       "8   2024-08-01  \n",
       "\n",
       "[136 rows x 7 columns]"
      ]
     },
     "execution_count": 12,
     "metadata": {},
     "output_type": "execute_result"
    }
   ],
   "source": [
    "avgs = pd.concat([\n",
    "    df.assign(date=to_dt(f'{year}-{month}'))\n",
    "    for month, dfs in tables.items()\n",
    "    for df in dfs[:2]\n",
    "])\n",
    "avgs['date'] = avgs.date.dt.date\n",
    "avgs"
   ]
  },
  {
   "cell_type": "code",
   "execution_count": 13,
   "id": "462a641d",
   "metadata": {
    "execution": {
     "iopub.execute_input": "2024-10-21T00:14:58.348206Z",
     "iopub.status.busy": "2024-10-21T00:14:58.348073Z",
     "iopub.status.idle": "2024-10-21T00:14:58.355540Z",
     "shell.execute_reply": "2024-10-21T00:14:58.355305Z"
    },
    "papermill": {
     "duration": 0.011469,
     "end_time": "2024-10-21T00:14:58.356355",
     "exception": false,
     "start_time": "2024-10-21T00:14:58.344886",
     "status": "completed"
    },
    "scrolled": true,
    "tags": []
   },
   "outputs": [
    {
     "data": {
      "text/html": [
       "<div>\n",
       "<style scoped>\n",
       "    .dataframe tbody tr th:only-of-type {\n",
       "        vertical-align: middle;\n",
       "    }\n",
       "\n",
       "    .dataframe tbody tr th {\n",
       "        vertical-align: top;\n",
       "    }\n",
       "\n",
       "    .dataframe thead th {\n",
       "        text-align: right;\n",
       "    }\n",
       "</style>\n",
       "<table border=\"1\" class=\"dataframe\">\n",
       "  <thead>\n",
       "    <tr style=\"text-align: right;\">\n",
       "      <th></th>\n",
       "      <th>station</th>\n",
       "      <th>total</th>\n",
       "      <th>avg weekday</th>\n",
       "      <th>avg sat</th>\n",
       "      <th>avg sun</th>\n",
       "      <th>avg holiday</th>\n",
       "      <th>month</th>\n",
       "    </tr>\n",
       "  </thead>\n",
       "  <tbody>\n",
       "    <tr>\n",
       "      <th>0</th>\n",
       "      <td>Christopher Street</td>\n",
       "      <td>86831</td>\n",
       "      <td>3147</td>\n",
       "      <td>2511</td>\n",
       "      <td>1784</td>\n",
       "      <td>1784</td>\n",
       "      <td>2024-01-01</td>\n",
       "    </tr>\n",
       "    <tr>\n",
       "      <th>1</th>\n",
       "      <td>9th Street</td>\n",
       "      <td>75977</td>\n",
       "      <td>2792</td>\n",
       "      <td>2108</td>\n",
       "      <td>1401</td>\n",
       "      <td>1651</td>\n",
       "      <td>2024-01-01</td>\n",
       "    </tr>\n",
       "    <tr>\n",
       "      <th>2</th>\n",
       "      <td>14th Street</td>\n",
       "      <td>127321</td>\n",
       "      <td>4834</td>\n",
       "      <td>3037</td>\n",
       "      <td>2180</td>\n",
       "      <td>2472</td>\n",
       "      <td>2024-01-01</td>\n",
       "    </tr>\n",
       "    <tr>\n",
       "      <th>3</th>\n",
       "      <td>23rd Street</td>\n",
       "      <td>122336</td>\n",
       "      <td>5033</td>\n",
       "      <td>1964</td>\n",
       "      <td>1287</td>\n",
       "      <td>1817</td>\n",
       "      <td>2024-01-01</td>\n",
       "    </tr>\n",
       "    <tr>\n",
       "      <th>4</th>\n",
       "      <td>33rd Street</td>\n",
       "      <td>500254</td>\n",
       "      <td>19543</td>\n",
       "      <td>9702</td>\n",
       "      <td>6865</td>\n",
       "      <td>11787</td>\n",
       "      <td>2024-01-01</td>\n",
       "    </tr>\n",
       "    <tr>\n",
       "      <th>...</th>\n",
       "      <td>...</td>\n",
       "      <td>...</td>\n",
       "      <td>...</td>\n",
       "      <td>...</td>\n",
       "      <td>...</td>\n",
       "      <td>...</td>\n",
       "      <td>...</td>\n",
       "    </tr>\n",
       "    <tr>\n",
       "      <th>4</th>\n",
       "      <td>Exchange Place</td>\n",
       "      <td>290785</td>\n",
       "      <td>10937</td>\n",
       "      <td>6487</td>\n",
       "      <td>4432</td>\n",
       "      <td>0</td>\n",
       "      <td>2024-08-01</td>\n",
       "    </tr>\n",
       "    <tr>\n",
       "      <th>5</th>\n",
       "      <td>Newport</td>\n",
       "      <td>300424</td>\n",
       "      <td>11429</td>\n",
       "      <td>6227</td>\n",
       "      <td>4463</td>\n",
       "      <td>0</td>\n",
       "      <td>2024-08-01</td>\n",
       "    </tr>\n",
       "    <tr>\n",
       "      <th>6</th>\n",
       "      <td>Hoboken</td>\n",
       "      <td>417134</td>\n",
       "      <td>15764</td>\n",
       "      <td>9025</td>\n",
       "      <td>6302</td>\n",
       "      <td>0</td>\n",
       "      <td>2024-08-01</td>\n",
       "    </tr>\n",
       "    <tr>\n",
       "      <th>7</th>\n",
       "      <td>NEW JERSEY SUBTOTAL</td>\n",
       "      <td>2538439</td>\n",
       "      <td>95693</td>\n",
       "      <td>56061</td>\n",
       "      <td>38222</td>\n",
       "      <td>0</td>\n",
       "      <td>2024-08-01</td>\n",
       "    </tr>\n",
       "    <tr>\n",
       "      <th>8</th>\n",
       "      <td>MONTHLY TOTAL</td>\n",
       "      <td>4675081</td>\n",
       "      <td>175682</td>\n",
       "      <td>103471</td>\n",
       "      <td>73182</td>\n",
       "      <td>0</td>\n",
       "      <td>2024-08-01</td>\n",
       "    </tr>\n",
       "  </tbody>\n",
       "</table>\n",
       "<p>136 rows × 7 columns</p>\n",
       "</div>"
      ],
      "text/plain": [
       "                station    total  avg weekday  avg sat  avg sun  avg holiday  \\\n",
       "0    Christopher Street    86831         3147     2511     1784         1784   \n",
       "1            9th Street    75977         2792     2108     1401         1651   \n",
       "2           14th Street   127321         4834     3037     2180         2472   \n",
       "3           23rd Street   122336         5033     1964     1287         1817   \n",
       "4           33rd Street   500254        19543     9702     6865        11787   \n",
       "..                  ...      ...          ...      ...      ...          ...   \n",
       "4        Exchange Place   290785        10937     6487     4432            0   \n",
       "5               Newport   300424        11429     6227     4463            0   \n",
       "6               Hoboken   417134        15764     9025     6302            0   \n",
       "7   NEW JERSEY SUBTOTAL  2538439        95693    56061    38222            0   \n",
       "8         MONTHLY TOTAL  4675081       175682   103471    73182            0   \n",
       "\n",
       "         month  \n",
       "0   2024-01-01  \n",
       "1   2024-01-01  \n",
       "2   2024-01-01  \n",
       "3   2024-01-01  \n",
       "4   2024-01-01  \n",
       "..         ...  \n",
       "4   2024-08-01  \n",
       "5   2024-08-01  \n",
       "6   2024-08-01  \n",
       "7   2024-08-01  \n",
       "8   2024-08-01  \n",
       "\n",
       "[136 rows x 7 columns]"
      ]
     },
     "execution_count": 13,
     "metadata": {},
     "output_type": "execute_result"
    }
   ],
   "source": [
    "avgs.columns = cols1 + ['month']\n",
    "avgs = avgs.assign(**{\n",
    "    k: avgs[k].astype(str).str.replace(',', '').astype(int)\n",
    "    for k in cols1[1:]\n",
    "})\n",
    "avgs"
   ]
  },
  {
   "cell_type": "code",
   "execution_count": 14,
   "id": "0fd8fec9",
   "metadata": {
    "execution": {
     "iopub.execute_input": "2024-10-21T00:14:58.362207Z",
     "iopub.status.busy": "2024-10-21T00:14:58.362101Z",
     "iopub.status.idle": "2024-10-21T00:14:58.365491Z",
     "shell.execute_reply": "2024-10-21T00:14:58.365279Z"
    },
    "papermill": {
     "duration": 0.007334,
     "end_time": "2024-10-21T00:14:58.366275",
     "exception": false,
     "start_time": "2024-10-21T00:14:58.358941",
     "status": "completed"
    },
    "tags": []
   },
   "outputs": [
    {
     "data": {
      "text/plain": [
       "station        0\n",
       "total          0\n",
       "avg weekday    0\n",
       "avg sat        0\n",
       "avg sun        0\n",
       "avg holiday    0\n",
       "month          0\n",
       "dtype: int64"
      ]
     },
     "execution_count": 14,
     "metadata": {},
     "output_type": "execute_result"
    }
   ],
   "source": [
    "avgs.isna().sum(axis=0)"
   ]
  },
  {
   "cell_type": "code",
   "execution_count": 15,
   "id": "b15b15fd",
   "metadata": {
    "execution": {
     "iopub.execute_input": "2024-10-21T00:14:58.372371Z",
     "iopub.status.busy": "2024-10-21T00:14:58.372269Z",
     "iopub.status.idle": "2024-10-21T00:14:58.374795Z",
     "shell.execute_reply": "2024-10-21T00:14:58.374574Z"
    },
    "papermill": {
     "duration": 0.00649,
     "end_time": "2024-10-21T00:14:58.375579",
     "exception": false,
     "start_time": "2024-10-21T00:14:58.369089",
     "status": "completed"
    },
    "tags": []
   },
   "outputs": [
    {
     "data": {
      "text/plain": [
       "station        object\n",
       "total           int64\n",
       "avg weekday     int64\n",
       "avg sat         int64\n",
       "avg sun         int64\n",
       "avg holiday     int64\n",
       "month          object\n",
       "dtype: object"
      ]
     },
     "execution_count": 15,
     "metadata": {},
     "output_type": "execute_result"
    }
   ],
   "source": [
    "avgs.dtypes"
   ]
  },
  {
   "cell_type": "code",
   "execution_count": 16,
   "id": "131a096e",
   "metadata": {
    "execution": {
     "iopub.execute_input": "2024-10-21T00:14:58.381063Z",
     "iopub.status.busy": "2024-10-21T00:14:58.380974Z",
     "iopub.status.idle": "2024-10-21T00:14:58.392561Z",
     "shell.execute_reply": "2024-10-21T00:14:58.392329Z"
    },
    "papermill": {
     "duration": 0.015048,
     "end_time": "2024-10-21T00:14:58.393323",
     "exception": false,
     "start_time": "2024-10-21T00:14:58.378275",
     "status": "completed"
    },
    "scrolled": true,
    "tags": []
   },
   "outputs": [
    {
     "data": {
      "text/html": [
       "<div>\n",
       "<style scoped>\n",
       "    .dataframe tbody tr th:only-of-type {\n",
       "        vertical-align: middle;\n",
       "    }\n",
       "\n",
       "    .dataframe tbody tr th {\n",
       "        vertical-align: top;\n",
       "    }\n",
       "\n",
       "    .dataframe thead th {\n",
       "        text-align: right;\n",
       "    }\n",
       "</style>\n",
       "<table border=\"1\" class=\"dataframe\">\n",
       "  <thead>\n",
       "    <tr style=\"text-align: right;\">\n",
       "      <th></th>\n",
       "      <th>station</th>\n",
       "      <th>avg daily</th>\n",
       "      <th>total weekday</th>\n",
       "      <th>total sat</th>\n",
       "      <th>total sun</th>\n",
       "      <th>total holiday</th>\n",
       "      <th>month</th>\n",
       "    </tr>\n",
       "  </thead>\n",
       "  <tbody>\n",
       "    <tr>\n",
       "      <th>0</th>\n",
       "      <td>Christopher Street</td>\n",
       "      <td>2801</td>\n",
       "      <td>66085</td>\n",
       "      <td>10043</td>\n",
       "      <td>7136</td>\n",
       "      <td>3567</td>\n",
       "      <td>2024-01-01</td>\n",
       "    </tr>\n",
       "    <tr>\n",
       "      <th>1</th>\n",
       "      <td>9th Street</td>\n",
       "      <td>2451</td>\n",
       "      <td>58641</td>\n",
       "      <td>8433</td>\n",
       "      <td>5602</td>\n",
       "      <td>3301</td>\n",
       "      <td>2024-01-01</td>\n",
       "    </tr>\n",
       "    <tr>\n",
       "      <th>2</th>\n",
       "      <td>14th Street</td>\n",
       "      <td>4107</td>\n",
       "      <td>101507</td>\n",
       "      <td>12149</td>\n",
       "      <td>8721</td>\n",
       "      <td>4944</td>\n",
       "      <td>2024-01-01</td>\n",
       "    </tr>\n",
       "    <tr>\n",
       "      <th>3</th>\n",
       "      <td>23rd Street</td>\n",
       "      <td>3946</td>\n",
       "      <td>105700</td>\n",
       "      <td>7855</td>\n",
       "      <td>5147</td>\n",
       "      <td>3634</td>\n",
       "      <td>2024-01-01</td>\n",
       "    </tr>\n",
       "    <tr>\n",
       "      <th>4</th>\n",
       "      <td>33rd Street</td>\n",
       "      <td>16137</td>\n",
       "      <td>410413</td>\n",
       "      <td>38806</td>\n",
       "      <td>27461</td>\n",
       "      <td>23574</td>\n",
       "      <td>2024-01-01</td>\n",
       "    </tr>\n",
       "    <tr>\n",
       "      <th>...</th>\n",
       "      <td>...</td>\n",
       "      <td>...</td>\n",
       "      <td>...</td>\n",
       "      <td>...</td>\n",
       "      <td>...</td>\n",
       "      <td>...</td>\n",
       "      <td>...</td>\n",
       "    </tr>\n",
       "    <tr>\n",
       "      <th>4</th>\n",
       "      <td>Exchange Place</td>\n",
       "      <td>9380</td>\n",
       "      <td>240620</td>\n",
       "      <td>32437</td>\n",
       "      <td>17728</td>\n",
       "      <td>0</td>\n",
       "      <td>2024-08-01</td>\n",
       "    </tr>\n",
       "    <tr>\n",
       "      <th>5</th>\n",
       "      <td>Newport</td>\n",
       "      <td>9691</td>\n",
       "      <td>251441</td>\n",
       "      <td>31133</td>\n",
       "      <td>17850</td>\n",
       "      <td>0</td>\n",
       "      <td>2024-08-01</td>\n",
       "    </tr>\n",
       "    <tr>\n",
       "      <th>6</th>\n",
       "      <td>Hoboken</td>\n",
       "      <td>13456</td>\n",
       "      <td>346802</td>\n",
       "      <td>45124</td>\n",
       "      <td>25208</td>\n",
       "      <td>0</td>\n",
       "      <td>2024-08-01</td>\n",
       "    </tr>\n",
       "    <tr>\n",
       "      <th>7</th>\n",
       "      <td>NEW JERSEY SUBTOTAL</td>\n",
       "      <td>81885</td>\n",
       "      <td>2105247</td>\n",
       "      <td>280305</td>\n",
       "      <td>152887</td>\n",
       "      <td>0</td>\n",
       "      <td>2024-08-01</td>\n",
       "    </tr>\n",
       "    <tr>\n",
       "      <th>8</th>\n",
       "      <td>MONTHLY TOTAL</td>\n",
       "      <td>150809</td>\n",
       "      <td>3865000</td>\n",
       "      <td>517355</td>\n",
       "      <td>292726</td>\n",
       "      <td>0</td>\n",
       "      <td>2024-08-01</td>\n",
       "    </tr>\n",
       "  </tbody>\n",
       "</table>\n",
       "<p>136 rows × 7 columns</p>\n",
       "</div>"
      ],
      "text/plain": [
       "                station  avg daily  total weekday  total sat  total sun  \\\n",
       "0    Christopher Street       2801          66085      10043       7136   \n",
       "1            9th Street       2451          58641       8433       5602   \n",
       "2           14th Street       4107         101507      12149       8721   \n",
       "3           23rd Street       3946         105700       7855       5147   \n",
       "4           33rd Street      16137         410413      38806      27461   \n",
       "..                  ...        ...            ...        ...        ...   \n",
       "4        Exchange Place       9380         240620      32437      17728   \n",
       "5               Newport       9691         251441      31133      17850   \n",
       "6               Hoboken      13456         346802      45124      25208   \n",
       "7   NEW JERSEY SUBTOTAL      81885        2105247     280305     152887   \n",
       "8         MONTHLY TOTAL     150809        3865000     517355     292726   \n",
       "\n",
       "    total holiday       month  \n",
       "0            3567  2024-01-01  \n",
       "1            3301  2024-01-01  \n",
       "2            4944  2024-01-01  \n",
       "3            3634  2024-01-01  \n",
       "4           23574  2024-01-01  \n",
       "..            ...         ...  \n",
       "4               0  2024-08-01  \n",
       "5               0  2024-08-01  \n",
       "6               0  2024-08-01  \n",
       "7               0  2024-08-01  \n",
       "8               0  2024-08-01  \n",
       "\n",
       "[136 rows x 7 columns]"
      ]
     },
     "execution_count": 16,
     "metadata": {},
     "output_type": "execute_result"
    }
   ],
   "source": [
    "sums = pd.concat([\n",
    "    df.assign(date=to_dt(f'{year}-{month}'))\n",
    "    for month, dfs in tables.items()\n",
    "    for df in dfs[2:]\n",
    "])\n",
    "sums['date'] = sums.date.dt.date\n",
    "sums.columns = cols2 + ['month']\n",
    "sums = sums.assign(**{\n",
    "    k: sums[k].astype(str).str.replace(',', '').astype(int)\n",
    "    for k in cols2[1:]\n",
    "})\n",
    "sums"
   ]
  },
  {
   "cell_type": "code",
   "execution_count": 17,
   "id": "3f872f31",
   "metadata": {
    "execution": {
     "iopub.execute_input": "2024-10-21T00:14:58.398991Z",
     "iopub.status.busy": "2024-10-21T00:14:58.398888Z",
     "iopub.status.idle": "2024-10-21T00:14:58.401313Z",
     "shell.execute_reply": "2024-10-21T00:14:58.401084Z"
    },
    "papermill": {
     "duration": 0.006034,
     "end_time": "2024-10-21T00:14:58.402058",
     "exception": false,
     "start_time": "2024-10-21T00:14:58.396024",
     "status": "completed"
    },
    "tags": []
   },
   "outputs": [
    {
     "data": {
      "text/plain": [
       "station          0\n",
       "avg daily        0\n",
       "total weekday    0\n",
       "total sat        0\n",
       "total sun        0\n",
       "total holiday    0\n",
       "month            0\n",
       "dtype: int64"
      ]
     },
     "execution_count": 17,
     "metadata": {},
     "output_type": "execute_result"
    }
   ],
   "source": [
    "sums.isna().sum(axis=0)"
   ]
  },
  {
   "cell_type": "code",
   "execution_count": 18,
   "id": "3bbdff5e",
   "metadata": {
    "execution": {
     "iopub.execute_input": "2024-10-21T00:14:58.407697Z",
     "iopub.status.busy": "2024-10-21T00:14:58.407592Z",
     "iopub.status.idle": "2024-10-21T00:14:58.409980Z",
     "shell.execute_reply": "2024-10-21T00:14:58.409739Z"
    },
    "papermill": {
     "duration": 0.006237,
     "end_time": "2024-10-21T00:14:58.410863",
     "exception": false,
     "start_time": "2024-10-21T00:14:58.404626",
     "status": "completed"
    },
    "tags": []
   },
   "outputs": [
    {
     "data": {
      "text/plain": [
       "station          object\n",
       "avg daily         int64\n",
       "total weekday     int64\n",
       "total sat         int64\n",
       "total sun         int64\n",
       "total holiday     int64\n",
       "month            object\n",
       "dtype: object"
      ]
     },
     "execution_count": 18,
     "metadata": {},
     "output_type": "execute_result"
    }
   ],
   "source": [
    "sums.dtypes"
   ]
  },
  {
   "cell_type": "code",
   "execution_count": 19,
   "id": "b4d389e4",
   "metadata": {
    "execution": {
     "iopub.execute_input": "2024-10-21T00:14:58.417922Z",
     "iopub.status.busy": "2024-10-21T00:14:58.417799Z",
     "iopub.status.idle": "2024-10-21T00:14:58.428854Z",
     "shell.execute_reply": "2024-10-21T00:14:58.428586Z"
    },
    "papermill": {
     "duration": 0.015261,
     "end_time": "2024-10-21T00:14:58.429692",
     "exception": false,
     "start_time": "2024-10-21T00:14:58.414431",
     "status": "completed"
    },
    "scrolled": true,
    "tags": []
   },
   "outputs": [
    {
     "data": {
      "text/html": [
       "<div>\n",
       "<style scoped>\n",
       "    .dataframe tbody tr th:only-of-type {\n",
       "        vertical-align: middle;\n",
       "    }\n",
       "\n",
       "    .dataframe tbody tr th {\n",
       "        vertical-align: top;\n",
       "    }\n",
       "\n",
       "    .dataframe thead th {\n",
       "        text-align: right;\n",
       "    }\n",
       "</style>\n",
       "<table border=\"1\" class=\"dataframe\">\n",
       "  <thead>\n",
       "    <tr style=\"text-align: right;\">\n",
       "      <th></th>\n",
       "      <th></th>\n",
       "      <th>avg daily</th>\n",
       "      <th>avg weekday</th>\n",
       "      <th>avg sat</th>\n",
       "      <th>avg sun</th>\n",
       "      <th>avg holiday</th>\n",
       "      <th>total</th>\n",
       "      <th>total weekday</th>\n",
       "      <th>total sat</th>\n",
       "      <th>total sun</th>\n",
       "      <th>total holiday</th>\n",
       "    </tr>\n",
       "    <tr>\n",
       "      <th>month</th>\n",
       "      <th>station</th>\n",
       "      <th></th>\n",
       "      <th></th>\n",
       "      <th></th>\n",
       "      <th></th>\n",
       "      <th></th>\n",
       "      <th></th>\n",
       "      <th></th>\n",
       "      <th></th>\n",
       "      <th></th>\n",
       "      <th></th>\n",
       "    </tr>\n",
       "  </thead>\n",
       "  <tbody>\n",
       "    <tr>\n",
       "      <th rowspan=\"5\" valign=\"top\">2024-01-01</th>\n",
       "      <th>Christopher Street</th>\n",
       "      <td>2801</td>\n",
       "      <td>3147</td>\n",
       "      <td>2511</td>\n",
       "      <td>1784</td>\n",
       "      <td>1784</td>\n",
       "      <td>86831</td>\n",
       "      <td>66085</td>\n",
       "      <td>10043</td>\n",
       "      <td>7136</td>\n",
       "      <td>3567</td>\n",
       "    </tr>\n",
       "    <tr>\n",
       "      <th>9th Street</th>\n",
       "      <td>2451</td>\n",
       "      <td>2792</td>\n",
       "      <td>2108</td>\n",
       "      <td>1401</td>\n",
       "      <td>1651</td>\n",
       "      <td>75977</td>\n",
       "      <td>58641</td>\n",
       "      <td>8433</td>\n",
       "      <td>5602</td>\n",
       "      <td>3301</td>\n",
       "    </tr>\n",
       "    <tr>\n",
       "      <th>14th Street</th>\n",
       "      <td>4107</td>\n",
       "      <td>4834</td>\n",
       "      <td>3037</td>\n",
       "      <td>2180</td>\n",
       "      <td>2472</td>\n",
       "      <td>127321</td>\n",
       "      <td>101507</td>\n",
       "      <td>12149</td>\n",
       "      <td>8721</td>\n",
       "      <td>4944</td>\n",
       "    </tr>\n",
       "    <tr>\n",
       "      <th>23rd Street</th>\n",
       "      <td>3946</td>\n",
       "      <td>5033</td>\n",
       "      <td>1964</td>\n",
       "      <td>1287</td>\n",
       "      <td>1817</td>\n",
       "      <td>122336</td>\n",
       "      <td>105700</td>\n",
       "      <td>7855</td>\n",
       "      <td>5147</td>\n",
       "      <td>3634</td>\n",
       "    </tr>\n",
       "    <tr>\n",
       "      <th>33rd Street</th>\n",
       "      <td>16137</td>\n",
       "      <td>19543</td>\n",
       "      <td>9702</td>\n",
       "      <td>6865</td>\n",
       "      <td>11787</td>\n",
       "      <td>500254</td>\n",
       "      <td>410413</td>\n",
       "      <td>38806</td>\n",
       "      <td>27461</td>\n",
       "      <td>23574</td>\n",
       "    </tr>\n",
       "    <tr>\n",
       "      <th>...</th>\n",
       "      <th>...</th>\n",
       "      <td>...</td>\n",
       "      <td>...</td>\n",
       "      <td>...</td>\n",
       "      <td>...</td>\n",
       "      <td>...</td>\n",
       "      <td>...</td>\n",
       "      <td>...</td>\n",
       "      <td>...</td>\n",
       "      <td>...</td>\n",
       "      <td>...</td>\n",
       "    </tr>\n",
       "    <tr>\n",
       "      <th rowspan=\"5\" valign=\"top\">2024-08-01</th>\n",
       "      <th>Exchange Place</th>\n",
       "      <td>9380</td>\n",
       "      <td>10937</td>\n",
       "      <td>6487</td>\n",
       "      <td>4432</td>\n",
       "      <td>0</td>\n",
       "      <td>290785</td>\n",
       "      <td>240620</td>\n",
       "      <td>32437</td>\n",
       "      <td>17728</td>\n",
       "      <td>0</td>\n",
       "    </tr>\n",
       "    <tr>\n",
       "      <th>Newport</th>\n",
       "      <td>9691</td>\n",
       "      <td>11429</td>\n",
       "      <td>6227</td>\n",
       "      <td>4463</td>\n",
       "      <td>0</td>\n",
       "      <td>300424</td>\n",
       "      <td>251441</td>\n",
       "      <td>31133</td>\n",
       "      <td>17850</td>\n",
       "      <td>0</td>\n",
       "    </tr>\n",
       "    <tr>\n",
       "      <th>Hoboken</th>\n",
       "      <td>13456</td>\n",
       "      <td>15764</td>\n",
       "      <td>9025</td>\n",
       "      <td>6302</td>\n",
       "      <td>0</td>\n",
       "      <td>417134</td>\n",
       "      <td>346802</td>\n",
       "      <td>45124</td>\n",
       "      <td>25208</td>\n",
       "      <td>0</td>\n",
       "    </tr>\n",
       "    <tr>\n",
       "      <th>NEW JERSEY SUBTOTAL</th>\n",
       "      <td>81885</td>\n",
       "      <td>95693</td>\n",
       "      <td>56061</td>\n",
       "      <td>38222</td>\n",
       "      <td>0</td>\n",
       "      <td>2538439</td>\n",
       "      <td>2105247</td>\n",
       "      <td>280305</td>\n",
       "      <td>152887</td>\n",
       "      <td>0</td>\n",
       "    </tr>\n",
       "    <tr>\n",
       "      <th>MONTHLY TOTAL</th>\n",
       "      <td>150809</td>\n",
       "      <td>175682</td>\n",
       "      <td>103471</td>\n",
       "      <td>73182</td>\n",
       "      <td>0</td>\n",
       "      <td>4675081</td>\n",
       "      <td>3865000</td>\n",
       "      <td>517355</td>\n",
       "      <td>292726</td>\n",
       "      <td>0</td>\n",
       "    </tr>\n",
       "  </tbody>\n",
       "</table>\n",
       "<p>136 rows × 10 columns</p>\n",
       "</div>"
      ],
      "text/plain": [
       "                                avg daily  avg weekday  avg sat  avg sun  \\\n",
       "month      station                                                         \n",
       "2024-01-01 Christopher Street        2801         3147     2511     1784   \n",
       "           9th Street                2451         2792     2108     1401   \n",
       "           14th Street               4107         4834     3037     2180   \n",
       "           23rd Street               3946         5033     1964     1287   \n",
       "           33rd Street              16137        19543     9702     6865   \n",
       "...                                   ...          ...      ...      ...   \n",
       "2024-08-01 Exchange Place            9380        10937     6487     4432   \n",
       "           Newport                   9691        11429     6227     4463   \n",
       "           Hoboken                  13456        15764     9025     6302   \n",
       "           NEW JERSEY SUBTOTAL      81885        95693    56061    38222   \n",
       "           MONTHLY TOTAL           150809       175682   103471    73182   \n",
       "\n",
       "                                avg holiday    total  total weekday  \\\n",
       "month      station                                                    \n",
       "2024-01-01 Christopher Street          1784    86831          66085   \n",
       "           9th Street                  1651    75977          58641   \n",
       "           14th Street                 2472   127321         101507   \n",
       "           23rd Street                 1817   122336         105700   \n",
       "           33rd Street                11787   500254         410413   \n",
       "...                                     ...      ...            ...   \n",
       "2024-08-01 Exchange Place                 0   290785         240620   \n",
       "           Newport                        0   300424         251441   \n",
       "           Hoboken                        0   417134         346802   \n",
       "           NEW JERSEY SUBTOTAL            0  2538439        2105247   \n",
       "           MONTHLY TOTAL                  0  4675081        3865000   \n",
       "\n",
       "                                total sat  total sun  total holiday  \n",
       "month      station                                                   \n",
       "2024-01-01 Christopher Street       10043       7136           3567  \n",
       "           9th Street                8433       5602           3301  \n",
       "           14th Street              12149       8721           4944  \n",
       "           23rd Street               7855       5147           3634  \n",
       "           33rd Street              38806      27461          23574  \n",
       "...                                   ...        ...            ...  \n",
       "2024-08-01 Exchange Place           32437      17728              0  \n",
       "           Newport                  31133      17850              0  \n",
       "           Hoboken                  45124      25208              0  \n",
       "           NEW JERSEY SUBTOTAL     280305     152887              0  \n",
       "           MONTHLY TOTAL           517355     292726              0  \n",
       "\n",
       "[136 rows x 10 columns]"
      ]
     },
     "execution_count": 19,
     "metadata": {},
     "output_type": "execute_result"
    }
   ],
   "source": [
    "df = sxs(\n",
    "    avgs.set_index(['month', 'station']),\n",
    "    sums.set_index(['month', 'station']),\n",
    ")\n",
    "df = df[[cols2[1]] + cols1[2:] + [cols1[1]] + cols2[2:]]\n",
    "df"
   ]
  },
  {
   "cell_type": "code",
   "execution_count": 20,
   "id": "aba5369e",
   "metadata": {
    "execution": {
     "iopub.execute_input": "2024-10-21T00:14:58.438252Z",
     "iopub.status.busy": "2024-10-21T00:14:58.438122Z",
     "iopub.status.idle": "2024-10-21T00:14:58.471284Z",
     "shell.execute_reply": "2024-10-21T00:14:58.470986Z"
    },
    "papermill": {
     "duration": 0.037889,
     "end_time": "2024-10-21T00:14:58.472239",
     "exception": false,
     "start_time": "2024-10-21T00:14:58.434350",
     "status": "completed"
    },
    "tags": []
   },
   "outputs": [],
   "source": [
    "path = f'data/{year}.pqt'\n",
    "df.to_parquet(path)"
   ]
  },
  {
   "cell_type": "code",
   "execution_count": 21,
   "id": "ea5b16cc",
   "metadata": {
    "execution": {
     "iopub.execute_input": "2024-10-21T00:14:58.478678Z",
     "iopub.status.busy": "2024-10-21T00:14:58.478576Z",
     "iopub.status.idle": "2024-10-21T00:14:58.531982Z",
     "shell.execute_reply": "2024-10-21T00:14:58.531691Z"
    },
    "papermill": {
     "duration": 0.057837,
     "end_time": "2024-10-21T00:14:58.532915",
     "exception": false,
     "start_time": "2024-10-21T00:14:58.475078",
     "status": "completed"
    },
    "tags": []
   },
   "outputs": [],
   "source": [
    "import plotly.express as px\n",
    "from IPython.display import Image"
   ]
  },
  {
   "cell_type": "code",
   "execution_count": 22,
   "id": "21330c90",
   "metadata": {
    "execution": {
     "iopub.execute_input": "2024-10-21T00:14:58.539041Z",
     "iopub.status.busy": "2024-10-21T00:14:58.538948Z",
     "iopub.status.idle": "2024-10-21T00:14:59.536454Z",
     "shell.execute_reply": "2024-10-21T00:14:59.536019Z"
    },
    "papermill": {
     "duration": 1.001724,
     "end_time": "2024-10-21T00:14:59.537568",
     "exception": false,
     "start_time": "2024-10-21T00:14:58.535844",
     "status": "completed"
    },
    "slideshow": {
     "slide_type": ""
    },
    "tags": []
   },
   "outputs": [
    {
     "data": {
      "image/png": "[encoded data removed]",
      "text/plain": [
       "<IPython.core.display.Image object>"
      ]
     },
     "execution_count": 22,
     "metadata": {},
     "output_type": "execute_result"
    }
   ],
   "source": [
    "fig = px.bar(\n",
    "    avgs[~avgs.station.str.contains('TOTAL')],\n",
    "    x='month', y='avg weekday', color='station',\n",
    ")\n",
    "Image(fig.to_image(width=1200, height=600))"
   ]
  }
 ],
 "metadata": {
  "kernelspec": {
   "display_name": "Python 3 (ipykernel)",
   "language": "python",
   "name": "python3"
  },
  "language_info": {
   "codemirror_mode": {
    "name": "ipython",
    "version": 3
   },
   "file_extension": ".py",
   "mimetype": "text/x-python",
   "name": "python",
   "nbconvert_exporter": "python",
   "pygments_lexer": "ipython3",
   "version": "3.11.8"
  },
  "papermill": {
   "default_parameters": {},
   "duration": 9.38211,
   "end_time": "2024-10-21T00:14:59.757830",
   "environment_variables": {},
   "exception": null,
   "input_path": "monthly.ipynb",
   "output_path": "out/monthly-2024.ipynb",
   "parameters": {
    "last_month": 8,
    "year": 2024
   },
   "start_time": "2024-10-21T00:14:50.375720",
   "version": "2.6.0"
  }
 },
 "nbformat": 4,
 "nbformat_minor": 5
}