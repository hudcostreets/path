{
 "cells": [
  {
   "cell_type": "code",
   "execution_count": 1,
   "id": "1ceffb6b",
   "metadata": {},
   "outputs": [],
   "source": [
    "import pandas as pd\n",
    "import gspread\n",
    "from gspread_dataframe import set_with_dataframe\n",
    "\n",
    "from path_data.paths import ALL_PQT"
   ]
  },
  {
   "cell_type": "code",
   "execution_count": 2,
   "id": "7dc1a9a9",
   "metadata": {},
   "outputs": [
    {
     "data": {
      "text/html": [
       "<div>\n",
       "<style scoped>\n",
       "    .dataframe tbody tr th:only-of-type {\n",
       "        vertical-align: middle;\n",
       "    }\n",
       "\n",
       "    .dataframe tbody tr th {\n",
       "        vertical-align: top;\n",
       "    }\n",
       "\n",
       "    .dataframe thead th {\n",
       "        text-align: right;\n",
       "    }\n",
       "</style>\n",
       "<table border=\"1\" class=\"dataframe\">\n",
       "  <thead>\n",
       "    <tr style=\"text-align: right;\">\n",
       "      <th></th>\n",
       "      <th>month</th>\n",
       "      <th>station</th>\n",
       "      <th>total weekday</th>\n",
       "      <th>total weekend</th>\n",
       "      <th>total sat</th>\n",
       "      <th>total sun</th>\n",
       "      <th>total holiday</th>\n",
       "      <th>avg weekday</th>\n",
       "      <th>avg weekend</th>\n",
       "      <th>avg sat</th>\n",
       "      <th>avg sun</th>\n",
       "      <th>avg holiday</th>\n",
       "      <th>weekdays</th>\n",
       "      <th>weekends</th>\n",
       "      <th>sats</th>\n",
       "      <th>suns</th>\n",
       "      <th>holidays</th>\n",
       "    </tr>\n",
       "  </thead>\n",
       "  <tbody>\n",
       "    <tr>\n",
       "      <th>0</th>\n",
       "      <td>2012-01</td>\n",
       "      <td>Christopher Street</td>\n",
       "      <td>85113</td>\n",
       "      <td>22993</td>\n",
       "      <td>10830</td>\n",
       "      <td>12163</td>\n",
       "      <td>4081</td>\n",
       "      <td>4255.650000</td>\n",
       "      <td>2554.777778</td>\n",
       "      <td>2707.50</td>\n",
       "      <td>2432.60</td>\n",
       "      <td>2040.5</td>\n",
       "      <td>20</td>\n",
       "      <td>9</td>\n",
       "      <td>4</td>\n",
       "      <td>5</td>\n",
       "      <td>2</td>\n",
       "    </tr>\n",
       "    <tr>\n",
       "      <th>1</th>\n",
       "      <td>2012-01</td>\n",
       "      <td>9th Street</td>\n",
       "      <td>89658</td>\n",
       "      <td>31958</td>\n",
       "      <td>14780</td>\n",
       "      <td>17178</td>\n",
       "      <td>5066</td>\n",
       "      <td>4482.900000</td>\n",
       "      <td>3550.888889</td>\n",
       "      <td>3695.00</td>\n",
       "      <td>3435.60</td>\n",
       "      <td>2533.0</td>\n",
       "      <td>20</td>\n",
       "      <td>9</td>\n",
       "      <td>4</td>\n",
       "      <td>5</td>\n",
       "      <td>2</td>\n",
       "    </tr>\n",
       "    <tr>\n",
       "      <th>2</th>\n",
       "      <td>2012-01</td>\n",
       "      <td>14th Street</td>\n",
       "      <td>175369</td>\n",
       "      <td>45032</td>\n",
       "      <td>21384</td>\n",
       "      <td>23648</td>\n",
       "      <td>8082</td>\n",
       "      <td>8768.450000</td>\n",
       "      <td>5003.555556</td>\n",
       "      <td>5346.00</td>\n",
       "      <td>4729.60</td>\n",
       "      <td>4041.0</td>\n",
       "      <td>20</td>\n",
       "      <td>9</td>\n",
       "      <td>4</td>\n",
       "      <td>5</td>\n",
       "      <td>2</td>\n",
       "    </tr>\n",
       "    <tr>\n",
       "      <th>3</th>\n",
       "      <td>2012-01</td>\n",
       "      <td>23rd Street</td>\n",
       "      <td>166895</td>\n",
       "      <td>24511</td>\n",
       "      <td>11698</td>\n",
       "      <td>12813</td>\n",
       "      <td>6191</td>\n",
       "      <td>8344.750000</td>\n",
       "      <td>2723.444444</td>\n",
       "      <td>2924.50</td>\n",
       "      <td>2562.60</td>\n",
       "      <td>3095.5</td>\n",
       "      <td>20</td>\n",
       "      <td>9</td>\n",
       "      <td>4</td>\n",
       "      <td>5</td>\n",
       "      <td>2</td>\n",
       "    </tr>\n",
       "    <tr>\n",
       "      <th>4</th>\n",
       "      <td>2012-01</td>\n",
       "      <td>33rd Street</td>\n",
       "      <td>695937</td>\n",
       "      <td>152976</td>\n",
       "      <td>69398</td>\n",
       "      <td>83578</td>\n",
       "      <td>37254</td>\n",
       "      <td>34796.850000</td>\n",
       "      <td>16997.333333</td>\n",
       "      <td>17349.50</td>\n",
       "      <td>16715.60</td>\n",
       "      <td>18627.0</td>\n",
       "      <td>20</td>\n",
       "      <td>9</td>\n",
       "      <td>4</td>\n",
       "      <td>5</td>\n",
       "      <td>2</td>\n",
       "    </tr>\n",
       "    <tr>\n",
       "      <th>...</th>\n",
       "      <td>...</td>\n",
       "      <td>...</td>\n",
       "      <td>...</td>\n",
       "      <td>...</td>\n",
       "      <td>...</td>\n",
       "      <td>...</td>\n",
       "      <td>...</td>\n",
       "      <td>...</td>\n",
       "      <td>...</td>\n",
       "      <td>...</td>\n",
       "      <td>...</td>\n",
       "      <td>...</td>\n",
       "      <td>...</td>\n",
       "      <td>...</td>\n",
       "      <td>...</td>\n",
       "      <td>...</td>\n",
       "      <td>...</td>\n",
       "    </tr>\n",
       "    <tr>\n",
       "      <th>2075</th>\n",
       "      <td>2025-04</td>\n",
       "      <td>Journal Square</td>\n",
       "      <td>520909</td>\n",
       "      <td>101497</td>\n",
       "      <td>56121</td>\n",
       "      <td>45376</td>\n",
       "      <td>0</td>\n",
       "      <td>23677.681818</td>\n",
       "      <td>12687.125000</td>\n",
       "      <td>14030.25</td>\n",
       "      <td>11344.00</td>\n",
       "      <td>NaN</td>\n",
       "      <td>22</td>\n",
       "      <td>8</td>\n",
       "      <td>4</td>\n",
       "      <td>4</td>\n",
       "      <td>0</td>\n",
       "    </tr>\n",
       "    <tr>\n",
       "      <th>2076</th>\n",
       "      <td>2025-04</td>\n",
       "      <td>Grove Street</td>\n",
       "      <td>392319</td>\n",
       "      <td>80080</td>\n",
       "      <td>45496</td>\n",
       "      <td>34584</td>\n",
       "      <td>0</td>\n",
       "      <td>17832.681818</td>\n",
       "      <td>10010.000000</td>\n",
       "      <td>11374.00</td>\n",
       "      <td>8646.00</td>\n",
       "      <td>NaN</td>\n",
       "      <td>22</td>\n",
       "      <td>8</td>\n",
       "      <td>4</td>\n",
       "      <td>4</td>\n",
       "      <td>0</td>\n",
       "    </tr>\n",
       "    <tr>\n",
       "      <th>2077</th>\n",
       "      <td>2025-04</td>\n",
       "      <td>Exchange Place</td>\n",
       "      <td>275041</td>\n",
       "      <td>44269</td>\n",
       "      <td>24555</td>\n",
       "      <td>19714</td>\n",
       "      <td>0</td>\n",
       "      <td>12501.863636</td>\n",
       "      <td>5533.625000</td>\n",
       "      <td>6138.75</td>\n",
       "      <td>4928.50</td>\n",
       "      <td>NaN</td>\n",
       "      <td>22</td>\n",
       "      <td>8</td>\n",
       "      <td>4</td>\n",
       "      <td>4</td>\n",
       "      <td>0</td>\n",
       "    </tr>\n",
       "    <tr>\n",
       "      <th>2078</th>\n",
       "      <td>2025-04</td>\n",
       "      <td>Newport</td>\n",
       "      <td>289148</td>\n",
       "      <td>42478</td>\n",
       "      <td>23421</td>\n",
       "      <td>19057</td>\n",
       "      <td>0</td>\n",
       "      <td>13143.090909</td>\n",
       "      <td>5309.750000</td>\n",
       "      <td>5855.25</td>\n",
       "      <td>4764.25</td>\n",
       "      <td>NaN</td>\n",
       "      <td>22</td>\n",
       "      <td>8</td>\n",
       "      <td>4</td>\n",
       "      <td>4</td>\n",
       "      <td>0</td>\n",
       "    </tr>\n",
       "    <tr>\n",
       "      <th>2079</th>\n",
       "      <td>2025-04</td>\n",
       "      <td>Hoboken</td>\n",
       "      <td>397101</td>\n",
       "      <td>69871</td>\n",
       "      <td>40275</td>\n",
       "      <td>29596</td>\n",
       "      <td>0</td>\n",
       "      <td>18050.045455</td>\n",
       "      <td>8733.875000</td>\n",
       "      <td>10068.75</td>\n",
       "      <td>7399.00</td>\n",
       "      <td>NaN</td>\n",
       "      <td>22</td>\n",
       "      <td>8</td>\n",
       "      <td>4</td>\n",
       "      <td>4</td>\n",
       "      <td>0</td>\n",
       "    </tr>\n",
       "  </tbody>\n",
       "</table>\n",
       "<p>2080 rows × 17 columns</p>\n",
       "</div>"
      ],
      "text/plain": [
       "        month             station  total weekday  total weekend  total sat  \\\n",
       "0     2012-01  Christopher Street          85113          22993      10830   \n",
       "1     2012-01          9th Street          89658          31958      14780   \n",
       "2     2012-01         14th Street         175369          45032      21384   \n",
       "3     2012-01         23rd Street         166895          24511      11698   \n",
       "4     2012-01         33rd Street         695937         152976      69398   \n",
       "...       ...                 ...            ...            ...        ...   \n",
       "2075  2025-04      Journal Square         520909         101497      56121   \n",
       "2076  2025-04        Grove Street         392319          80080      45496   \n",
       "2077  2025-04      Exchange Place         275041          44269      24555   \n",
       "2078  2025-04             Newport         289148          42478      23421   \n",
       "2079  2025-04             Hoboken         397101          69871      40275   \n",
       "\n",
       "      total sun  total holiday   avg weekday   avg weekend   avg sat  \\\n",
       "0         12163           4081   4255.650000   2554.777778   2707.50   \n",
       "1         17178           5066   4482.900000   3550.888889   3695.00   \n",
       "2         23648           8082   8768.450000   5003.555556   5346.00   \n",
       "3         12813           6191   8344.750000   2723.444444   2924.50   \n",
       "4         83578          37254  34796.850000  16997.333333  17349.50   \n",
       "...         ...            ...           ...           ...       ...   \n",
       "2075      45376              0  23677.681818  12687.125000  14030.25   \n",
       "2076      34584              0  17832.681818  10010.000000  11374.00   \n",
       "2077      19714              0  12501.863636   5533.625000   6138.75   \n",
       "2078      19057              0  13143.090909   5309.750000   5855.25   \n",
       "2079      29596              0  18050.045455   8733.875000  10068.75   \n",
       "\n",
       "       avg sun  avg holiday  weekdays  weekends  sats  suns  holidays  \n",
       "0      2432.60       2040.5        20         9     4     5         2  \n",
       "1      3435.60       2533.0        20         9     4     5         2  \n",
       "2      4729.60       4041.0        20         9     4     5         2  \n",
       "3      2562.60       3095.5        20         9     4     5         2  \n",
       "4     16715.60      18627.0        20         9     4     5         2  \n",
       "...        ...          ...       ...       ...   ...   ...       ...  \n",
       "2075  11344.00          NaN        22         8     4     4         0  \n",
       "2076   8646.00          NaN        22         8     4     4         0  \n",
       "2077   4928.50          NaN        22         8     4     4         0  \n",
       "2078   4764.25          NaN        22         8     4     4         0  \n",
       "2079   7399.00          NaN        22         8     4     4         0  \n",
       "\n",
       "[2080 rows x 17 columns]"
      ]
     },
     "execution_count": 2,
     "metadata": {},
     "output_type": "execute_result"
    }
   ],
   "source": [
    "df = pd.read_parquet(ALL_PQT)\n",
    "df"
   ]
  },
  {
   "cell_type": "code",
   "execution_count": 24,
   "id": "c66fff7e",
   "metadata": {},
   "outputs": [],
   "source": [
    "creds = 'gcp/path-svcacct.json'\n",
    "title = 'PATH ridership data'\n",
    "sheet = 'Months'"
   ]
  },
  {
   "cell_type": "code",
   "execution_count": 26,
   "id": "e3b77dbf",
   "metadata": {},
   "outputs": [
    {
     "data": {
      "text/plain": [
       "<Spreadsheet 'PATH ridership' id:1HMrVNcRzYryUtI5mnPc5K5hrt2UT1w78MwzexXinqys>"
      ]
     },
     "execution_count": 26,
     "metadata": {},
     "output_type": "execute_result"
    }
   ],
   "source": [
    "gc = gspread.service_account(filename=creds)\n",
    "ss = gc.open(title)\n",
    "ss"
   ]
  },
  {
   "cell_type": "code",
   "execution_count": 42,
   "id": "79435ebe",
   "metadata": {},
   "outputs": [],
   "source": [
    "set_with_dataframe(ss.sheet1, df, include_index=False)"
   ]
  },
  {
   "cell_type": "code",
   "execution_count": 32,
   "id": "bb1c6caa",
   "metadata": {},
   "outputs": [
    {
     "data": {
      "text/plain": [
       "<Worksheet 'Months' id:0>"
      ]
     },
     "execution_count": 32,
     "metadata": {},
     "output_type": "execute_result"
    }
   ],
   "source": [
    "s = ss.sheet1\n",
    "s"
   ]
  },
  {
   "cell_type": "code",
   "execution_count": 41,
   "id": "163cd850",
   "metadata": {},
   "outputs": [],
   "source": [
    "df.columns = [ c.title() for c in df.columns ]"
   ]
  },
  {
   "cell_type": "code",
   "execution_count": 43,
   "id": "136b88e9",
   "metadata": {},
   "outputs": [
    {
     "data": {
      "text/plain": [
       "{'spreadsheetId': '1HMrVNcRzYryUtI5mnPc5K5hrt2UT1w78MwzexXinqys',\n",
       " 'replies': [{}]}"
      ]
     },
     "execution_count": 43,
     "metadata": {},
     "output_type": "execute_result"
    }
   ],
   "source": [
    "s.format(\n",
    "    '1:1',\n",
    "    {\n",
    "        'textFormat': { 'bold': True },\n",
    "        'horizontalAlignment': 'RIGHT',\n",
    "    }\n",
    ")"
   ]
  },
  {
   "cell_type": "code",
   "execution_count": 39,
   "id": "cd816221",
   "metadata": {},
   "outputs": [
    {
     "data": {
      "text/plain": [
       "{'spreadsheetId': '1HMrVNcRzYryUtI5mnPc5K5hrt2UT1w78MwzexXinqys',\n",
       " 'replies': [{}]}"
      ]
     },
     "execution_count": 39,
     "metadata": {},
     "output_type": "execute_result"
    }
   ],
   "source": [
    "s.format(\n",
    "    'A:B',\n",
    "    {\n",
    "        'textFormat': { 'bold': True },\n",
    "        'horizontalAlignment': 'RIGHT',\n",
    "    }\n",
    ")"
   ]
  },
  {
   "cell_type": "code",
   "execution_count": 45,
   "id": "d1b92360",
   "metadata": {},
   "outputs": [
    {
     "data": {
      "text/plain": [
       "Month             object\n",
       "Station           object\n",
       "Total Weekday      int32\n",
       "Total Weekend      int32\n",
       "Total Sat          int32\n",
       "Total Sun          int32\n",
       "Total Holiday      int32\n",
       "Avg Weekday      float64\n",
       "Avg Weekend      float64\n",
       "Avg Sat          float64\n",
       "Avg Sun          float64\n",
       "Avg Holiday      float64\n",
       "Weekdays           int32\n",
       "Weekends           int32\n",
       "Sats               int32\n",
       "Suns               int32\n",
       "Holidays           int32\n",
       "dtype: object"
      ]
     },
     "execution_count": 45,
     "metadata": {},
     "output_type": "execute_result"
    }
   ],
   "source": [
    "df.dtypes"
   ]
  },
  {
   "cell_type": "code",
   "execution_count": 47,
   "id": "e3b474ac",
   "metadata": {},
   "outputs": [
    {
     "data": {
      "text/plain": [
       "{'spreadsheetId': '1HMrVNcRzYryUtI5mnPc5K5hrt2UT1w78MwzexXinqys',\n",
       " 'replies': [{}]}"
      ]
     },
     "execution_count": 47,
     "metadata": {},
     "output_type": "execute_result"
    }
   ],
   "source": [
    "s.format(\n",
    "    'C:Q',\n",
    "    { \"numberFormat\": {\n",
    "        \"type\": \"NUMBER\",\n",
    "        \"pattern\": \"#,##0\"\n",
    "    }}\n",
    ")"
   ]
  },
  {
   "cell_type": "code",
   "execution_count": 37,
   "id": "2c3afccb",
   "metadata": {},
   "outputs": [
    {
     "data": {
      "text/plain": [
       "{'spreadsheetId': '1HMrVNcRzYryUtI5mnPc5K5hrt2UT1w78MwzexXinqys',\n",
       " 'replies': [{}]}"
      ]
     },
     "execution_count": 37,
     "metadata": {},
     "output_type": "execute_result"
    }
   ],
   "source": [
    "s.freeze(rows=1, cols=2)"
   ]
  }
 ],
 "metadata": {
  "kernelspec": {
   "display_name": "Python 3 (ipykernel)",
   "language": "python",
   "name": "python3"
  },
  "language_info": {
   "codemirror_mode": {
    "name": "ipython",
    "version": 3
   },
   "file_extension": ".py",
   "mimetype": "text/x-python",
   "name": "python",
   "nbconvert_exporter": "python",
   "pygments_lexer": "ipython3",
   "version": "3.11.8"
  }
 },
 "nbformat": 4,
 "nbformat_minor": 5
}
